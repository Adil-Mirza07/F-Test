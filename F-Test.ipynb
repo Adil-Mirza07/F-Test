{
 "cells": [
  {
   "cell_type": "markdown",
   "id": "d1e82d4e-5bf9-49ac-8e5c-fb9e35fd082c",
   "metadata": {},
   "source": [
    "# F-Test with python"
   ]
  },
  {
   "cell_type": "code",
   "execution_count": 1,
   "id": "7baa23c7-4cfe-46d8-8e1f-041e0e7d2924",
   "metadata": {},
   "outputs": [],
   "source": [
    "# Evidance to say that the two population various are not equal.\n",
    "## check we come to concclusion whether one worker is better than the other\n",
    "\n",
    "worker1= [18, 19, 22, 25, 27, 28, 41, 45, 51, 55]\n",
    "worker2= [14, 15, 15, 17, 18, 22, 25, 25, 27, 34]"
   ]
  },
  {
   "cell_type": "code",
   "execution_count": 2,
   "id": "3250ee8a-0b53-49b0-af9e-716ad01d54dd",
   "metadata": {},
   "outputs": [],
   "source": [
    "## caluclate the F-Test statistics \n",
    "import numpy as np\n",
    "f_test=np.var(worker1)/np.var(worker2)"
   ]
  },
  {
   "cell_type": "code",
   "execution_count": 3,
   "id": "0bf6f9fc-4a54-4575-a09a-84256d09993e",
   "metadata": {},
   "outputs": [
    {
     "data": {
      "text/plain": [
       "4.387122002085506"
      ]
     },
     "execution_count": 3,
     "metadata": {},
     "output_type": "execute_result"
    }
   ],
   "source": [
    "f_test"
   ]
  },
  {
   "cell_type": "code",
   "execution_count": 6,
   "id": "63c9bc12-b8b5-4205-b307-c6b562ff7210",
   "metadata": {},
   "outputs": [],
   "source": [
    "## Degree of freedom\n",
    "df1=len(worker1)-1\n",
    "df2=len(worker2)-1\n",
    "significance_value=0.05"
   ]
  },
  {
   "cell_type": "code",
   "execution_count": 7,
   "id": "bf769fbe-4fc6-4817-b528-8187500cea24",
   "metadata": {},
   "outputs": [],
   "source": [
    "import scipy.stats as stat"
   ]
  },
  {
   "cell_type": "code",
   "execution_count": 9,
   "id": "122f2b3c-fbff-47b2-b938-61d1a110c0d8",
   "metadata": {},
   "outputs": [],
   "source": [
    "critical_value=stat.f.ppf(q=1-significance_value,dfn=df1,dfd=df2)"
   ]
  },
  {
   "cell_type": "code",
   "execution_count": 12,
   "id": "4b7c4e3f-29bf-4167-b643-63a85d223095",
   "metadata": {},
   "outputs": [
    {
     "name": "stdout",
     "output_type": "stream",
     "text": [
      "Reject the null hypothesis\n"
     ]
    }
   ],
   "source": [
    "if f_test>critical_value:\n",
    "    print(\"Reject the null hypothesis\")\n",
    "else:\n",
    "    print(\"We fall to reject the null hypthesis\")"
   ]
  },
  {
   "cell_type": "code",
   "execution_count": null,
   "id": "a68f02b1-be05-47a8-b9d6-556cff004e58",
   "metadata": {},
   "outputs": [],
   "source": []
  }
 ],
 "metadata": {
  "kernelspec": {
   "display_name": "Python 3 (ipykernel)",
   "language": "python",
   "name": "python3"
  },
  "language_info": {
   "codemirror_mode": {
    "name": "ipython",
    "version": 3
   },
   "file_extension": ".py",
   "mimetype": "text/x-python",
   "name": "python",
   "nbconvert_exporter": "python",
   "pygments_lexer": "ipython3",
   "version": "3.10.8"
  }
 },
 "nbformat": 4,
 "nbformat_minor": 5
}
